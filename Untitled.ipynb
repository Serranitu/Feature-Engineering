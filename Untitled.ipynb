{
 "cells": [
  {
   "cell_type": "code",
   "execution_count": 1,
   "id": "d29f62ab",
   "metadata": {},
   "outputs": [],
   "source": [
    "reqs = \"\"\"\n",
    "category-encoders>=2.3.0\n",
    "feature-engine>=1.2.0\n",
    "numpy>=1.22.2\n",
    "pandas>=1.4.1\n",
    "scikit-learn>=1.0.2\n",
    "scipy>=1.8.0\n",
    "statsmodels>=0.13.2\n",
    "\"\"\""
   ]
  },
  {
   "cell_type": "code",
   "execution_count": null,
   "id": "c492c7a9",
   "metadata": {},
   "outputs": [],
   "source": [
    "!pip uninstall reqs"
   ]
  },
  {
   "cell_type": "code",
   "execution_count": null,
   "id": "0dfc24d4",
   "metadata": {},
   "outputs": [],
   "source": []
  }
 ],
 "metadata": {
  "kernelspec": {
   "display_name": "Python 3 (ipykernel)",
   "language": "python",
   "name": "python3"
  },
  "language_info": {
   "codemirror_mode": {
    "name": "ipython",
    "version": 3
   },
   "file_extension": ".py",
   "mimetype": "text/x-python",
   "name": "python",
   "nbconvert_exporter": "python",
   "pygments_lexer": "ipython3",
   "version": "3.11.3"
  }
 },
 "nbformat": 4,
 "nbformat_minor": 5
}
